{
 "cells": [
  {
   "cell_type": "code",
   "execution_count": 1,
   "id": "17967196",
   "metadata": {},
   "outputs": [],
   "source": [
    "// Generate some random data\n",
    "\n",
    "Random random = new Random();\n",
    "dataH1 = [];\n",
    "dataH2 = [];\n",
    "\n",
    "(1..10000).each {\n",
    "  dataH1 << random.nextGaussian();\n",
    "  dataH2 << 2*random.nextGaussian() + 1.0;\n",
    "}\n",
    "OutputCell.HIDDEN"
   ]
  },
  {
   "cell_type": "code",
   "execution_count": 2,
   "id": "1bc802a3",
   "metadata": {},
   "outputs": [
    {
     "data": {
      "application/vnd.jupyter.widget-view+json": {
       "model_id": "fe1ab5fd-f342-49bb-ab2d-88282876ba5d",
       "version_major": 2,
       "version_minor": 0
      },
      "method": "display_data"
     },
     "metadata": {},
     "output_type": "display_data"
    }
   ],
   "source": [
    "new Histogram(data: dataH1, binCount: 25);"
   ]
  },
  {
   "cell_type": "code",
   "execution_count": 3,
   "id": "3ca98a1c",
   "metadata": {},
   "outputs": [
    {
     "data": {
      "application/vnd.jupyter.widget-view+json": {
       "model_id": "87325712-5bd0-476a-aad7-5c98de964364",
       "version_major": 2,
       "version_minor": 0
      },
      "method": "display_data"
     },
     "metadata": {},
     "output_type": "display_data"
    }
   ],
   "source": [
    "%classpath add jar ../Jupyter_tests/processing-core.jar"
   ]
  },
  {
   "cell_type": "code",
   "execution_count": 4,
   "id": "4551036b",
   "metadata": {},
   "outputs": [
    {
     "data": {
      "text/plain": [
       "null"
      ]
     },
     "execution_count": 4,
     "metadata": {},
     "output_type": "execute_result"
    }
   ],
   "source": [
    "import processing.core.PApplet;\n",
    "\n",
    "public class MySketch extends PApplet {\n",
    "\n",
    "    public void settings() {\n",
    "        size(500, 500);\n",
    "    }\n",
    "\n",
    "    public void draw(){\n",
    "        background(64);\n",
    "        ellipse(mouseX, mouseY, 20, 20);\n",
    "    }\n",
    "    \n",
    "    public void run(){\n",
    "        String[] appletArgs = new String[1];\n",
    "        appletArgs[0]=\"MySketch\";\n",
    "        PApplet.main(appletArgs);\n",
    "    }\n",
    "  \n",
    "    public static void main(String[] passedArgs) {\n",
    "        String[] appletArgs = new String[1];\n",
    "        appletArgs[0]=\"MySketch\";\n",
    "        PApplet.main(appletArgs);\n",
    "    }\n",
    "}"
   ]
  },
  {
   "cell_type": "code",
   "execution_count": 5,
   "id": "b218856a",
   "metadata": {},
   "outputs": [
    {
     "name": "stdout",
     "output_type": "stream",
     "text": [
      "FORK!\n"
     ]
    },
    {
     "data": {
      "text/plain": [
       "null"
      ]
     },
     "execution_count": 5,
     "metadata": {},
     "output_type": "execute_result"
    }
   ],
   "source": [
    "public class F{\n",
    "    public int freak;\n",
    "    public F(){\n",
    "        System.out.println(\"FORK!\");\n",
    "    }\n",
    "}"
   ]
  },
  {
   "cell_type": "code",
   "execution_count": 6,
   "id": "800fe694",
   "metadata": {},
   "outputs": [
    {
     "name": "stdout",
     "output_type": "stream",
     "text": [
      "FORK!\n"
     ]
    },
    {
     "data": {
      "text/plain": [
       "null"
      ]
     },
     "execution_count": 6,
     "metadata": {},
     "output_type": "execute_result"
    }
   ],
   "source": [
    "String[] temp=new String[1];\n",
    "F f=new F();\n",
    "MySketch myFreak=new MySketch();\n",
    "myFreak.run();"
   ]
  },
  {
   "cell_type": "code",
   "execution_count": 7,
   "id": "3caafdf2",
   "metadata": {},
   "outputs": [
    {
     "data": {
      "application/vnd.jupyter.widget-view+json": {
       "model_id": "52de7bbe-0d93-4ef1-8e47-00acf4c7f974",
       "version_major": 2,
       "version_minor": 0
      },
      "method": "display_data"
     },
     "metadata": {},
     "output_type": "display_data"
    },
    {
     "data": {
      "image/png": "[encoded data removed]"
     },
     "execution_count": 7,
     "metadata": {},
     "output_type": "execute_result"
    }
   ],
   "source": [
    "%classpath add jar ../Jupyter_tests/xchart-3.8.1.jar\n",
    "import org.knowm.xchart.*;\n",
    "double[] xData = new double[3];\n",
    "double[] yData = new double[3];\n",
    "xData[0] = 0.0;\n",
    "xData[1] = 1.0;\n",
    "xData[2] = 2.0;\n",
    "yData[0] = 2.0;\n",
    "yData[1] = 1.0;\n",
    "yData[2] = 2.0;\n",
    "XYChart chart = QuickChart.getChart(\"ac\",\"X\",\"Y\",\"Y(X)\",xData,yData);\n",
    "BitmapEncoder.getBufferedImage(chart);"
   ]
  },
  {
   "cell_type": "code",
   "execution_count": 8,
   "id": "c0241594",
   "metadata": {},
   "outputs": [
    {
     "data": {
      "application/vnd.jupyter.widget-view+json": {
       "model_id": "a8224d02-25ca-45c8-86bb-ea871869f274",
       "version_major": 2,
       "version_minor": 0
      },
      "method": "display_data"
     },
     "metadata": {},
     "output_type": "display_data"
    }
   ],
   "source": [
    "%classpath add jar ../Jupyter_tests/MeJAR/MarsRoverViewer.jar"
   ]
  },
  {
   "cell_type": "code",
   "execution_count": 1,
   "id": "7fc1b8d7",
   "metadata": {},
   "outputs": [
    {
     "data": {
      "application/vnd.jupyter.widget-view+json": {
       "model_id": "1a6047c5-a96a-4287-a059-66e475b9c9d9",
       "version_major": 2,
       "version_minor": 0
      },
      "method": "display_data"
     },
     "metadata": {},
     "output_type": "display_data"
    }
   ],
   "source": [
    "%classpath add jar ../Jupyter_tests/MeJAR/COVIDGeoVisualization1.jar"
   ]
  },
  {
   "cell_type": "code",
   "execution_count": 2,
   "id": "aa8501cc",
   "metadata": {},
   "outputs": [
    {
     "name": "stdout",
     "output_type": "stream",
     "text": [
      "Gateway Server Started\n"
     ]
    },
    {
     "data": {
      "text/plain": [
       "null"
      ]
     },
     "execution_count": 2,
     "metadata": {},
     "output_type": "execute_result"
    },
    {
     "name": "stdout",
     "output_type": "stream",
     "text": [
      "Unfolding Map v0.9.93\n",
      "Using OpenGLMapDisplay with processing.opengl.PGraphics3D\n",
      "Using OpenGLMapDisplay with processing.opengl.PGraphics3D\n",
      "Using OpenGLMapDisplay with processing.opengl.PGraphics3D\n",
      "Using OpenGLMapDisplay with processing.opengl.PGraphics3D\n",
      "Using OpenGLMapDisplay with processing.opengl.PGraphics3D\n",
      "Using OpenGLMapDisplay with processing.opengl.PGraphics3D\n",
      "Using OpenGLMapDisplay with processing.opengl.PGraphics3D\n",
      "Using OpenGLMapDisplay with processing.opengl.PGraphics3D\n",
      "Using OpenGLMapDisplay with processing.opengl.PGraphics3D\n",
      "Using OpenGLMapDisplay with processing.opengl.PGraphics3D\n",
      "Using OpenGLMapDisplay with processing.opengl.PGraphics3D\n",
      "Using OpenGLMapDisplay with processing.opengl.PGraphics3D\n",
      "Using OpenGLMapDisplay with processing.opengl.PGraphics3D\n",
      "Using OpenGLMapDisplay with processing.opengl.PGraphics3D\n",
      "Using OpenGLMapDisplay with processing.opengl.PGraphics3D\n",
      "Using OpenGLMapDisplay with processing.opengl.PGraphics3D\n",
      "Using OpenGLMapDisplay with processing.opengl.PGraphics3D\n"
     ]
    }
   ],
   "source": [
    "import covidgeovisualization.StartApp;\n",
    "StartApp meApp=new StartApp();\n",
    "meApp.run();"
   ]
  },
  {
   "cell_type": "code",
   "execution_count": null,
   "id": "504766a4",
   "metadata": {},
   "outputs": [],
   "source": []
  }
 ],
 "metadata": {
  "kernelspec": {
   "display_name": "Groovy",
   "language": "groovy",
   "name": "groovy"
  },
  "language_info": {
   "codemirror_mode": "groovy",
   "file_extension": ".groovy",
   "mimetype": "",
   "name": "Groovy",
   "nbconverter_exporter": "",
   "version": "2.5.6"
  },
  "toc": {
   "base_numbering": 1,
   "nav_menu": {},
   "number_sections": false,
   "sideBar": false,
   "skip_h1_title": false,
   "title_cell": "Table of Contents",
   "title_sidebar": "Contents",
   "toc_cell": false,
   "toc_position": {},
   "toc_section_display": false,
   "toc_window_display": false
  }
 },
 "nbformat": 4,
 "nbformat_minor": 5
}
